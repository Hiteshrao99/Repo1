{
  "nbformat": 4,
  "nbformat_minor": 0,
  "metadata": {
    "colab": {
      "provenance": [],
      "authorship_tag": "ABX9TyM69XBsR72r3o0i2yA46UJF",
      "include_colab_link": true
    },
    "kernelspec": {
      "name": "python3",
      "display_name": "Python 3"
    },
    "language_info": {
      "name": "python"
    }
  },
  "cells": [
    {
      "cell_type": "markdown",
      "metadata": {
        "id": "view-in-github",
        "colab_type": "text"
      },
      "source": [
        "<a href=\"https://colab.research.google.com/github/Hiteshrao99/Repo1/blob/main/1_Week_project.ipynb\" target=\"_parent\"><img src=\"https://colab.research.google.com/assets/colab-badge.svg\" alt=\"Open In Colab\"/></a>"
      ]
    },
    {
      "cell_type": "code",
      "source": [
        "import string\n",
        "import random\n",
        "\n",
        "# 1. Character Storage\n",
        "all_characters = list(string.ascii_letters + string.digits + string.punctuation)\n",
        "\n",
        "# 2. User Input\n",
        "password_length = int(input(\"Enter the desired password lenght:\" ))\n",
        "\n",
        "# 3. shuffling characters\n",
        "random.shuffle(all_characters)\n",
        "\n",
        "# 4. Passsword Generation\n",
        "generated_password = []\n",
        "for _ in range(password_length):\n",
        "  selected_char = random.choice(all_characters)\n",
        "  generated_password.append(selected_char)\n",
        "\n",
        "# 5. Finilization\n",
        "random.shuffle(generated_password)\n",
        "final_password = ''.join(generated_password)\n",
        "\n",
        "# 6. output\n",
        "print(\"Your generated password is :\",final_password)\n",
        "\n",
        "#Extra info\n",
        "#string.ascii_letters ➜ Includes both a-z and A-Z\n",
        "#string.digits ➜ Adds 0-9\n",
        "#string.punctuation ➜ Symbols like !@#$%^&*()\n",
        "#Double shuffling ensures maximum randomness"
      ],
      "metadata": {
        "colab": {
          "base_uri": "https://localhost:8080/"
        },
        "id": "R5K-EHzH5a-m",
        "outputId": "01a1daf3-dc2e-44d1-d06d-f9a92271a12e"
      },
      "execution_count": 1,
      "outputs": [
        {
          "output_type": "stream",
          "name": "stdout",
          "text": [
            "Enter the desired password lenght:6\n",
            "Your generated password is : @Y=,BL\n"
          ]
        }
      ]
    }
  ]
}